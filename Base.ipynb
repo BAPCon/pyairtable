{
 "cells": [
  {
   "cell_type": "code",
   "execution_count": 3,
   "id": "84353251",
   "metadata": {},
   "outputs": [
    {
     "name": "stdout",
     "output_type": "stream",
     "text": [
      "<Base id=appaPqizdsNHDvlEm>\n"
     ]
    }
   ],
   "source": [
    "%load_ext autoreload\n",
    "%autoreload\n",
    "\n",
    "import os\n",
    "from pprint import pprint\n",
    "from airtable import Base\n",
    "\n",
    "base_key = 'appaPqizdsNHDvlEm'\n",
    "table_name = 'table'\n",
    "airtable = Base(base_key, api_key=os.environ['AIRTABLE_API_KEY'])\n",
    "print(airtable)\n"
   ]
  },
  {
   "cell_type": "code",
   "execution_count": 25,
   "id": "cc94a61e",
   "metadata": {},
   "outputs": [
    {
     "data": {
      "text/plain": [
       "{'id': 'recud0soZz8jCRb4x',\n",
       " 'fields': {'text': 'ABC', 'number': 5, 'boolean': True},\n",
       " 'createdTime': '2021-07-14T06:32:03.000Z'}"
      ]
     },
     "execution_count": 25,
     "metadata": {},
     "output_type": "execute_result"
    }
   ],
   "source": [
    "airtable.create(table_name, {\"text\": \"ABC\", \"number\": 5, \"boolean\": True})"
   ]
  },
  {
   "cell_type": "code",
   "execution_count": 4,
   "id": "1edcf56c",
   "metadata": {},
   "outputs": [
    {
     "data": {
      "text/plain": [
       "[{'id': 'recS6qSLw0OCA6Xul',\n",
       "  'fields': {'text': 'ABC', 'number': 0},\n",
       "  'createdTime': '2021-07-14T06:42:37.000Z'},\n",
       " {'id': 'recPDi9N8M7mMRt0L',\n",
       "  'fields': {'text': 'ABC', 'number': 1},\n",
       "  'createdTime': '2021-07-14T06:42:37.000Z'},\n",
       " {'id': 'reczA04T6mpU5lWm4',\n",
       "  'fields': {'text': 'ABC', 'number': 2},\n",
       "  'createdTime': '2021-07-14T06:42:37.000Z'},\n",
       " {'id': 'recsK7NLAcFN0lF2A',\n",
       "  'fields': {'text': 'ABC', 'number': 3},\n",
       "  'createdTime': '2021-07-14T06:42:37.000Z'},\n",
       " {'id': 'rec1CeRUBKpMKSMtb',\n",
       "  'fields': {'text': 'ABC', 'number': 4},\n",
       "  'createdTime': '2021-07-14T06:42:37.000Z'},\n",
       " {'id': 'recip3UXc0MlNowSS',\n",
       "  'fields': {'text': 'ABC', 'number': 5},\n",
       "  'createdTime': '2021-07-14T06:42:37.000Z'},\n",
       " {'id': 'rec7Q5QW6yM8foZWY',\n",
       "  'fields': {'text': 'ABC', 'number': 6},\n",
       "  'createdTime': '2021-07-14T06:42:37.000Z'},\n",
       " {'id': 'recQVUu5bx2vxYtyn',\n",
       "  'fields': {'text': 'ABC', 'number': 7},\n",
       "  'createdTime': '2021-07-14T06:42:37.000Z'},\n",
       " {'id': 'rec0G0k8CWtfU1FgZ',\n",
       "  'fields': {'text': 'ABC', 'number': 8},\n",
       "  'createdTime': '2021-07-14T06:42:37.000Z'},\n",
       " {'id': 'recNUXIWFSOnVWQUR',\n",
       "  'fields': {'text': 'ABC', 'number': 9},\n",
       "  'createdTime': '2021-07-14T06:42:37.000Z'},\n",
       " {'id': 'recIhr0AoS6OKpuD2',\n",
       "  'fields': {'text': 'ABC', 'number': 10},\n",
       "  'createdTime': '2021-07-14T06:42:37.000Z'},\n",
       " {'id': 'recgRXUF2b6Sd7oWp',\n",
       "  'fields': {'text': 'ABC', 'number': 11},\n",
       "  'createdTime': '2021-07-14T06:42:37.000Z'},\n",
       " {'id': 'recP8KperqXcQ6pq1',\n",
       "  'fields': {'text': 'ABC', 'number': 12},\n",
       "  'createdTime': '2021-07-14T06:42:37.000Z'},\n",
       " {'id': 'recarPNHZglCaBeOR',\n",
       "  'fields': {'text': 'ABC', 'number': 13},\n",
       "  'createdTime': '2021-07-14T06:42:37.000Z'},\n",
       " {'id': 'rec8gHU3u4XnurXjL',\n",
       "  'fields': {'text': 'ABC', 'number': 14},\n",
       "  'createdTime': '2021-07-14T06:42:37.000Z'}]"
      ]
     },
     "execution_count": 4,
     "metadata": {},
     "output_type": "execute_result"
    }
   ],
   "source": [
    "records = [{\"text\": \"ABC\", \"number\": i} for i in range(15) ]\n",
    "batch_create_results = airtable.batch_create(table_name, records)\n",
    "batch_create_results"
   ]
  },
  {
   "cell_type": "code",
   "execution_count": 9,
   "id": "ce410044",
   "metadata": {},
   "outputs": [
    {
     "data": {
      "text/plain": [
       "[{'id': 'rec0QkSoQIeQDs08H',\n",
       "  'fields': {'text': 'ABC', 'number': 27},\n",
       "  'createdTime': '2021-07-14T06:32:56.000Z'},\n",
       " {'id': 'rec2376VupwUgmeYP',\n",
       "  'fields': {'text': 'ABC', 'number': 6},\n",
       "  'createdTime': '2021-07-14T06:32:55.000Z'},\n",
       " {'id': 'rec2H4TWvQG48hnK0',\n",
       "  'fields': {'text': 'ABC', 'number': 2},\n",
       "  'createdTime': '2021-07-14T06:33:26.000Z'},\n",
       " {'id': 'rec3pkCiDufDpBSc5',\n",
       "  'fields': {'text': 'ABC', 'number': 7},\n",
       "  'createdTime': '2021-07-14T06:39:13.000Z'},\n",
       " {'id': 'rec3z5hr242eR7yt2',\n",
       "  'fields': {'text': 'ABC', 'number': 23},\n",
       "  'createdTime': '2021-07-14T06:33:27.000Z'},\n",
       " {'id': 'rec4BcMFz6UiHOEyK',\n",
       "  'fields': {'text': 'ABC', 'number': 13},\n",
       "  'createdTime': '2021-07-14T06:33:26.000Z'},\n",
       " {'id': 'rec51hheUdydT8Uze',\n",
       "  'fields': {'text': 'ABC', 'number': 14},\n",
       "  'createdTime': '2021-07-14T06:32:56.000Z'},\n",
       " {'id': 'rec59eGuHU7SnDeNn',\n",
       "  'fields': {'text': 'ABC', 'number': 6},\n",
       "  'createdTime': '2021-07-14T06:39:13.000Z'},\n",
       " {'id': 'rec5LxUBKlhYvanYP',\n",
       "  'fields': {'text': 'ABC', 'number': 29},\n",
       "  'createdTime': '2021-07-14T06:33:27.000Z'},\n",
       " {'id': 'rec6mg1H8pMeAkqFl',\n",
       "  'fields': {'text': 'ABC', 'number': 27},\n",
       "  'createdTime': '2021-07-14T06:33:27.000Z'},\n",
       " {'id': 'rec6wzqyFiT1U8xGh',\n",
       "  'fields': {'text': 'ABC', 'number': 17},\n",
       "  'createdTime': '2021-07-14T06:33:26.000Z'},\n",
       " {'id': 'recAGfgxzJb5qkFBB',\n",
       "  'fields': {'text': 'ABC', 'number': 15},\n",
       "  'createdTime': '2021-07-14T06:32:56.000Z'},\n",
       " {'id': 'recBILJkzXV9fh1xC',\n",
       "  'fields': {'text': 'ABC', 'number': 24},\n",
       "  'createdTime': '2021-07-14T06:33:27.000Z'},\n",
       " {'id': 'recBmS6LgzTw1RXnl',\n",
       "  'fields': {'text': 'ABC', 'number': 8},\n",
       "  'createdTime': '2021-07-14T06:33:26.000Z'},\n",
       " {'id': 'recDV1iVOeylGRnGa',\n",
       "  'fields': {'text': 'ABC', 'number': 5},\n",
       "  'createdTime': '2021-07-14T06:33:26.000Z'},\n",
       " {'id': 'recEKj5T7FHx0VyUT',\n",
       "  'fields': {'text': 'ABC', 'number': 25},\n",
       "  'createdTime': '2021-07-14T06:33:27.000Z'},\n",
       " {'id': 'recEPTkEjcRujQGZR',\n",
       "  'fields': {'text': 'ABC', 'number': 5},\n",
       "  'createdTime': '2021-07-14T06:39:13.000Z'},\n",
       " {'id': 'recEWTNC2Mr13X10B',\n",
       "  'fields': {'text': 'ABC', 'number': 23},\n",
       "  'createdTime': '2021-07-14T06:32:56.000Z'},\n",
       " {'id': 'recFbvqq7vnYkN6rJ',\n",
       "  'fields': {'text': 'ABC', 'number': 13},\n",
       "  'createdTime': '2021-07-14T06:39:14.000Z'},\n",
       " {'id': 'recGuWj3utGQTYQ2s',\n",
       "  'fields': {'text': 'ABC', 'number': 0},\n",
       "  'createdTime': '2021-07-14T06:32:55.000Z'},\n",
       " {'id': 'recH5jiQfuvxd32VC',\n",
       "  'fields': {'text': 'ABC', 'number': 9},\n",
       "  'createdTime': '2021-07-14T06:39:13.000Z'},\n",
       " {'id': 'recHQ8IcpOuhmeWFK',\n",
       "  'fields': {'text': 'ABC', 'number': 14},\n",
       "  'createdTime': '2021-07-14T06:39:14.000Z'},\n",
       " {'id': 'recHZx8YllXQpZV3t',\n",
       "  'fields': {'text': 'ABC', 'number': 3},\n",
       "  'createdTime': '2021-07-14T06:39:13.000Z'},\n",
       " {'id': 'recIyemytI4qveUt4',\n",
       "  'fields': {'text': 'ABC', 'number': 12},\n",
       "  'createdTime': '2021-07-14T06:33:26.000Z'},\n",
       " {'id': 'recJE71VZR9GN1e1N',\n",
       "  'fields': {'text': 'ABC', 'number': 10},\n",
       "  'createdTime': '2021-07-14T06:32:56.000Z'},\n",
       " {'id': 'recJQqAr8w3S5opfB',\n",
       "  'fields': {'text': 'ABC', 'number': 25},\n",
       "  'createdTime': '2021-07-14T06:32:56.000Z'},\n",
       " {'id': 'recJc6eyxK0g1Xppa',\n",
       "  'fields': {'text': 'ABC', 'number': 28},\n",
       "  'createdTime': '2021-07-14T06:32:56.000Z'},\n",
       " {'id': 'recJrORSVsoCBMbJ9',\n",
       "  'fields': {'text': 'ABC', 'number': 10},\n",
       "  'createdTime': '2021-07-14T06:39:14.000Z'},\n",
       " {'id': 'recKkfDs0yfHgS6uc',\n",
       "  'fields': {'text': 'ABC', 'number': 5},\n",
       "  'createdTime': '2021-07-14T06:32:55.000Z'},\n",
       " {'id': 'recLZiE0gMEwwpYnC',\n",
       "  'fields': {'text': 'ABC', 'number': 1},\n",
       "  'createdTime': '2021-07-14T06:39:13.000Z'},\n",
       " {'id': 'recNPUFr8MDSibYhZ',\n",
       "  'fields': {'text': 'ABC', 'number': 22},\n",
       "  'createdTime': '2021-07-14T06:33:27.000Z'},\n",
       " {'id': 'recPQt4wynSG0nRE8',\n",
       "  'fields': {'text': 'ABC', 'number': 3},\n",
       "  'createdTime': '2021-07-14T06:32:55.000Z'},\n",
       " {'id': 'recQ4xafQPRmpNl3h',\n",
       "  'fields': {'text': 'ABC', 'number': 13},\n",
       "  'createdTime': '2021-07-14T06:32:56.000Z'},\n",
       " {'id': 'recRUvrD9ArbAc5Rv',\n",
       "  'fields': {'text': 'ABC', 'number': 8},\n",
       "  'createdTime': '2021-07-14T06:39:13.000Z'},\n",
       " {'id': 'recRvwLLe8eNb1Mh2',\n",
       "  'fields': {'text': 'ABC', 'number': 4},\n",
       "  'createdTime': '2021-07-14T06:39:13.000Z'},\n",
       " {'id': 'recSXLplQfh2XsmJJ',\n",
       "  'fields': {'text': 'ABC', 'number': 9},\n",
       "  'createdTime': '2021-07-14T06:32:55.000Z'},\n",
       " {'id': 'recTSGEDTJZfUQvFp',\n",
       "  'fields': {'text': 'ABC', 'number': 1},\n",
       "  'createdTime': '2021-07-14T06:32:55.000Z'},\n",
       " {'id': 'recTm8iTt7YzHrD4Y',\n",
       "  'fields': {'text': 'ABC', 'number': 0},\n",
       "  'createdTime': '2021-07-14T06:33:26.000Z'},\n",
       " {'id': 'recUS2jfusZKEe0kS',\n",
       "  'fields': {'text': 'ABC', 'number': 24},\n",
       "  'createdTime': '2021-07-14T06:32:56.000Z'},\n",
       " {'id': 'recVZXrCXorbyIEdE',\n",
       "  'fields': {'text': 'ABC', 'number': 18},\n",
       "  'createdTime': '2021-07-14T06:32:56.000Z'},\n",
       " {'id': 'recWsRv5FYRmejEq2',\n",
       "  'fields': {'text': 'ABC', 'number': 18},\n",
       "  'createdTime': '2021-07-14T06:33:26.000Z'},\n",
       " {'id': 'recZDx3CuPwVweuLe',\n",
       "  'fields': {'text': 'ABC', 'number': 7},\n",
       "  'createdTime': '2021-07-14T06:33:26.000Z'},\n",
       " {'id': 'recZLFz2JY2gHEkV0',\n",
       "  'fields': {'text': 'ABC', 'number': 16},\n",
       "  'createdTime': '2021-07-14T06:32:56.000Z'},\n",
       " {'id': 'recZYBzV26MfODKkn',\n",
       "  'fields': {'text': 'ABC', 'number': 11},\n",
       "  'createdTime': '2021-07-14T06:33:26.000Z'},\n",
       " {'id': 'reca5IuUXCvTjrrIp',\n",
       "  'fields': {'text': 'ABC', 'number': 3},\n",
       "  'createdTime': '2021-07-14T06:33:26.000Z'},\n",
       " {'id': 'recaF2infE0osowhB',\n",
       "  'fields': {'text': 'ABC', 'number': 20},\n",
       "  'createdTime': '2021-07-14T06:33:27.000Z'},\n",
       " {'id': 'recb227J4Pv5706L8',\n",
       "  'fields': {'text': 'ABC', 'number': 22},\n",
       "  'createdTime': '2021-07-14T06:32:56.000Z'},\n",
       " {'id': 'recbTLBkryXu22ZsE',\n",
       "  'fields': {'text': 'ABC', 'number': 11},\n",
       "  'createdTime': '2021-07-14T06:32:56.000Z'},\n",
       " {'id': 'recbZqyH345s2qGqR',\n",
       "  'fields': {'text': 'ABC', 'number': 6},\n",
       "  'createdTime': '2021-07-14T06:33:26.000Z'},\n",
       " {'id': 'receGpdXRk9MZ1y5X',\n",
       "  'fields': {'text': 'ABC', 'number': 29},\n",
       "  'createdTime': '2021-07-14T06:32:56.000Z'},\n",
       " {'id': 'recec1ZSghSh7KeE6',\n",
       "  'fields': {'text': 'ABC', 'number': 21},\n",
       "  'createdTime': '2021-07-14T06:33:27.000Z'},\n",
       " {'id': 'recfHMqYlxDZlI8ZY',\n",
       "  'fields': {'text': 'ABC', 'number': 20},\n",
       "  'createdTime': '2021-07-14T06:32:56.000Z'},\n",
       " {'id': 'recgLsvnSjG6dKG3j',\n",
       "  'fields': {'text': 'ABC', 'number': 4},\n",
       "  'createdTime': '2021-07-14T06:32:55.000Z'},\n",
       " {'id': 'recggHe3LWduNFoFm',\n",
       "  'fields': {'text': 'ABC', 'number': 11},\n",
       "  'createdTime': '2021-07-14T06:39:14.000Z'},\n",
       " {'id': 'rech6efz1PMYdYeRQ',\n",
       "  'fields': {'text': 'ABC', 'number': 2},\n",
       "  'createdTime': '2021-07-14T06:39:13.000Z'},\n",
       " {'id': 'rechAYOmXrkQvOq2G',\n",
       "  'fields': {'text': 'ABC', 'number': 2},\n",
       "  'createdTime': '2021-07-14T06:32:55.000Z'},\n",
       " {'id': 'rechEaLROkVsZ4JvF',\n",
       "  'fields': {'text': 'ABC', 'number': 4},\n",
       "  'createdTime': '2021-07-14T06:33:26.000Z'},\n",
       " {'id': 'reciCNPsaBOsGDHjc',\n",
       "  'fields': {'text': 'ABC', 'number': 9},\n",
       "  'createdTime': '2021-07-14T06:33:26.000Z'},\n",
       " {'id': 'reciEZMrsgIzvvnIR',\n",
       "  'fields': {'text': 'ABC', 'number': 16},\n",
       "  'createdTime': '2021-07-14T06:33:26.000Z'},\n",
       " {'id': 'reclCWvsnWDmYuRMv',\n",
       "  'fields': {'text': 'ABC', 'number': 28},\n",
       "  'createdTime': '2021-07-14T06:33:27.000Z'},\n",
       " {'id': 'reclv1JqjLVVm7hVs',\n",
       "  'fields': {'text': 'ABC', 'number': 1},\n",
       "  'createdTime': '2021-07-14T06:33:26.000Z'},\n",
       " {'id': 'recntf8o1iIPw0RKF',\n",
       "  'fields': {'text': 'ABC', 'number': 0},\n",
       "  'createdTime': '2021-07-14T06:39:13.000Z'},\n",
       " {'id': 'recoJaeKw2GCcstkd',\n",
       "  'fields': {'text': 'ABC', 'number': 15},\n",
       "  'createdTime': '2021-07-14T06:33:26.000Z'},\n",
       " {'id': 'recpLIoW6nFqL25iu',\n",
       "  'fields': {'text': 'ABC', 'number': 7},\n",
       "  'createdTime': '2021-07-14T06:32:55.000Z'},\n",
       " {'id': 'recqWugsPCt8ijixP',\n",
       "  'fields': {'text': 'ABC', 'number': 8},\n",
       "  'createdTime': '2021-07-14T06:32:55.000Z'},\n",
       " {'id': 'recqcLRKDMXSP9Tlb',\n",
       "  'fields': {'text': 'ABC', 'number': 10},\n",
       "  'createdTime': '2021-07-14T06:33:26.000Z'},\n",
       " {'id': 'recskJY0JmM2AazI6',\n",
       "  'fields': {'text': 'ABC', 'number': 12},\n",
       "  'createdTime': '2021-07-14T06:39:14.000Z'},\n",
       " {'id': 'recuZjbGlVvt7XRi4',\n",
       "  'fields': {'text': 'ABC', 'number': 19},\n",
       "  'createdTime': '2021-07-14T06:33:26.000Z'},\n",
       " {'id': 'recud0soZz8jCRb4x',\n",
       "  'fields': {'text': 'ABC', 'number': 5, 'boolean': True},\n",
       "  'createdTime': '2021-07-14T06:32:03.000Z'},\n",
       " {'id': 'recwzBxKQfZlPTMUR',\n",
       "  'fields': {'text': 'ABC', 'number': 5, 'boolean': True},\n",
       "  'createdTime': '2021-07-14T06:28:36.000Z'},\n",
       " {'id': 'recx3MTqecFYKadWB',\n",
       "  'fields': {'text': 'ABC', 'number': 26},\n",
       "  'createdTime': '2021-07-14T06:32:56.000Z'},\n",
       " {'id': 'recxJ7sx1LxpvkbdY',\n",
       "  'fields': {'text': 'ABC', 'number': 19},\n",
       "  'createdTime': '2021-07-14T06:32:56.000Z'},\n",
       " {'id': 'recyPhHmSGuL2zi7m',\n",
       "  'fields': {'text': 'ABC', 'number': 14},\n",
       "  'createdTime': '2021-07-14T06:33:26.000Z'},\n",
       " {'id': 'recz9Gcfl6m0VhgKi',\n",
       "  'fields': {'text': 'ABC', 'number': 26},\n",
       "  'createdTime': '2021-07-14T06:33:27.000Z'},\n",
       " {'id': 'reczhaAWwOuPlbEMm',\n",
       "  'fields': {'text': 'ABC', 'number': 12},\n",
       "  'createdTime': '2021-07-14T06:32:56.000Z'},\n",
       " {'id': 'reczvPPf2jUMJcyd4',\n",
       "  'fields': {'text': 'ABC', 'number': 21},\n",
       "  'createdTime': '2021-07-14T06:32:56.000Z'}]"
      ]
     },
     "execution_count": 9,
     "metadata": {},
     "output_type": "execute_result"
    }
   ],
   "source": [
    "results = airtable.get_all(table_name)\n",
    "record_id = results[0][\"id\"]\n",
    "results"
   ]
  },
  {
   "cell_type": "code",
   "execution_count": 13,
   "id": "cca4b406",
   "metadata": {},
   "outputs": [
    {
     "data": {
      "text/plain": [
       "{'id': 'rec0QkSoQIeQDs08H',\n",
       " 'fields': {'text': 'ZZZ', 'number': 27},\n",
       " 'createdTime': '2021-07-14T06:32:56.000Z'}"
      ]
     },
     "execution_count": 13,
     "metadata": {},
     "output_type": "execute_result"
    }
   ],
   "source": [
    "record = results[0]\n",
    "airtable.update(table_name, record[\"id\"],{\"text\": \"ZZZ\"})"
   ]
  },
  {
   "cell_type": "code",
   "execution_count": null,
   "id": "7cf08551",
   "metadata": {},
   "outputs": [],
   "source": [
    "record = results[0]"
   ]
  },
  {
   "cell_type": "code",
   "execution_count": 28,
   "id": "b6cb0b7c",
   "metadata": {},
   "outputs": [
    {
     "data": {
      "text/plain": [
       "{'deleted': True, 'id': 'recliK4rzayN7bIGc'}"
      ]
     },
     "execution_count": 28,
     "metadata": {},
     "output_type": "execute_result"
    }
   ],
   "source": [
    "results = airtable.delete(table_name, record_id)\n",
    "results"
   ]
  },
  {
   "cell_type": "code",
   "execution_count": 7,
   "id": "aa82db01",
   "metadata": {},
   "outputs": [
    {
     "ename": "HTTPError",
     "evalue": "('404 Client Error: Not Found for url: https://api.airtable.com/v0/appaPqizdsNHDvlEm/table?records%5B%5D=recS6qSLw0OCA6Xul&records%5B%5D=recPDi9N8M7mMRt0L&records%5B%5D=reczA04T6mpU5lWm4&records%5B%5D=recsK7NLAcFN0lF2A&records%5B%5D=rec1CeRUBKpMKSMtb&records%5B%5D=recip3UXc0MlNowSS&records%5B%5D=rec7Q5QW6yM8foZWY&records%5B%5D=recQVUu5bx2vxYtyn&records%5B%5D=rec0G0k8CWtfU1FgZ&records%5B%5D=recNUXIWFSOnVWQUR', '404 Client Error: Not Found for url: https://api.airtable.com/v0/appaPqizdsNHDvlEm/table?records%5B%5D=recS6qSLw0OCA6Xul&records%5B%5D=recPDi9N8M7mMRt0L&records%5B%5D=reczA04T6mpU5lWm4&records%5B%5D=recsK7NLAcFN0lF2A&records%5B%5D=rec1CeRUBKpMKSMtb&records%5B%5D=recip3UXc0MlNowSS&records%5B%5D=rec7Q5QW6yM8foZWY&records%5B%5D=recQVUu5bx2vxYtyn&records%5B%5D=rec0G0k8CWtfU1FgZ&records%5B%5D=recNUXIWFSOnVWQUR [Error: {\\'type\\': \\'NOT_FOUND\\', \\'message\\': \\'Could not find a record with ID \"recS6qSLw0OCA6Xul\".\\'}]')",
     "output_type": "error",
     "traceback": [
      "\u001b[0;31m---------------------------------------------------------------------------\u001b[0m",
      "\u001b[0;31mHTTPError\u001b[0m                                 Traceback (most recent call last)",
      "\u001b[0;32m/var/folders/vc/kmhlmrw53_ldf5wnybgkst400000gn/T/ipykernel_9388/3217772312.py\u001b[0m in \u001b[0;36m<module>\u001b[0;34m\u001b[0m\n\u001b[1;32m      1\u001b[0m \u001b[0mrecord_ids\u001b[0m \u001b[0;34m=\u001b[0m \u001b[0;34m[\u001b[0m\u001b[0mr\u001b[0m\u001b[0;34m[\u001b[0m\u001b[0;34m\"id\"\u001b[0m\u001b[0;34m]\u001b[0m \u001b[0;32mfor\u001b[0m \u001b[0mr\u001b[0m \u001b[0;32min\u001b[0m \u001b[0mbatch_create_results\u001b[0m \u001b[0;34m]\u001b[0m\u001b[0;34m\u001b[0m\u001b[0;34m\u001b[0m\u001b[0m\n\u001b[0;32m----> 2\u001b[0;31m \u001b[0mdelete_results\u001b[0m \u001b[0;34m=\u001b[0m \u001b[0mairtable\u001b[0m\u001b[0;34m.\u001b[0m\u001b[0mbatch_delete\u001b[0m\u001b[0;34m(\u001b[0m\u001b[0mtable_name\u001b[0m\u001b[0;34m,\u001b[0m \u001b[0mrecord_ids\u001b[0m\u001b[0;34m)\u001b[0m\u001b[0;34m\u001b[0m\u001b[0;34m\u001b[0m\u001b[0m\n\u001b[0m\u001b[1;32m      3\u001b[0m \u001b[0mdelete_results\u001b[0m\u001b[0;34m\u001b[0m\u001b[0;34m\u001b[0m\u001b[0m\n",
      "\u001b[0;32m~/dev/repos/gtalarico/airtable-python-wrapper/airtable/airtable.py\u001b[0m in \u001b[0;36mbatch_delete\u001b[0;34m(self, table_name, record_ids)\u001b[0m\n\u001b[1;32m    492\u001b[0m         \u001b[0murl\u001b[0m \u001b[0;34m=\u001b[0m \u001b[0mself\u001b[0m\u001b[0;34m.\u001b[0m\u001b[0mtable_url\u001b[0m\u001b[0;34m(\u001b[0m\u001b[0mtable_name\u001b[0m\u001b[0;34m)\u001b[0m\u001b[0;34m\u001b[0m\u001b[0;34m\u001b[0m\u001b[0m\n\u001b[1;32m    493\u001b[0m         \u001b[0;32mfor\u001b[0m \u001b[0mrecord_ids\u001b[0m \u001b[0;32min\u001b[0m \u001b[0mself\u001b[0m\u001b[0;34m.\u001b[0m\u001b[0m_chunk\u001b[0m\u001b[0;34m(\u001b[0m\u001b[0mrecord_ids\u001b[0m\u001b[0;34m,\u001b[0m \u001b[0mself\u001b[0m\u001b[0;34m.\u001b[0m\u001b[0mMAX_RECORDS_PER_REQUEST\u001b[0m\u001b[0;34m)\u001b[0m\u001b[0;34m:\u001b[0m\u001b[0;34m\u001b[0m\u001b[0;34m\u001b[0m\u001b[0m\n\u001b[0;32m--> 494\u001b[0;31m             \u001b[0mdelete_results\u001b[0m \u001b[0;34m=\u001b[0m \u001b[0mself\u001b[0m\u001b[0;34m.\u001b[0m\u001b[0m_delete\u001b[0m\u001b[0;34m(\u001b[0m\u001b[0murl\u001b[0m\u001b[0;34m,\u001b[0m \u001b[0mparams\u001b[0m\u001b[0;34m=\u001b[0m\u001b[0;34m{\u001b[0m\u001b[0;34m\"records[]\"\u001b[0m\u001b[0;34m:\u001b[0m \u001b[0mrecord_ids\u001b[0m\u001b[0;34m}\u001b[0m\u001b[0;34m)\u001b[0m\u001b[0;34m\u001b[0m\u001b[0;34m\u001b[0m\u001b[0m\n\u001b[0m\u001b[1;32m    495\u001b[0m             \u001b[0mdeleted_records\u001b[0m\u001b[0;34m.\u001b[0m\u001b[0mextend\u001b[0m\u001b[0;34m(\u001b[0m\u001b[0mdelete_results\u001b[0m\u001b[0;34m[\u001b[0m\u001b[0;34m\"records\"\u001b[0m\u001b[0;34m]\u001b[0m\u001b[0;34m)\u001b[0m\u001b[0;34m\u001b[0m\u001b[0;34m\u001b[0m\u001b[0m\n\u001b[1;32m    496\u001b[0m             \u001b[0mtime\u001b[0m\u001b[0;34m.\u001b[0m\u001b[0msleep\u001b[0m\u001b[0;34m(\u001b[0m\u001b[0mself\u001b[0m\u001b[0;34m.\u001b[0m\u001b[0mAPI_LIMIT\u001b[0m\u001b[0;34m)\u001b[0m\u001b[0;34m\u001b[0m\u001b[0;34m\u001b[0m\u001b[0m\n",
      "\u001b[0;32m~/dev/repos/gtalarico/airtable-python-wrapper/airtable/airtable.py\u001b[0m in \u001b[0;36m_delete\u001b[0;34m(self, url, params)\u001b[0m\n\u001b[1;32m    211\u001b[0m \u001b[0;34m\u001b[0m\u001b[0m\n\u001b[1;32m    212\u001b[0m     \u001b[0;32mdef\u001b[0m \u001b[0m_delete\u001b[0m\u001b[0;34m(\u001b[0m\u001b[0mself\u001b[0m\u001b[0;34m,\u001b[0m \u001b[0murl\u001b[0m\u001b[0;34m,\u001b[0m \u001b[0mparams\u001b[0m\u001b[0;34m=\u001b[0m\u001b[0;32mNone\u001b[0m\u001b[0;34m)\u001b[0m\u001b[0;34m:\u001b[0m\u001b[0;34m\u001b[0m\u001b[0;34m\u001b[0m\u001b[0m\n\u001b[0;32m--> 213\u001b[0;31m         \u001b[0;32mreturn\u001b[0m \u001b[0mself\u001b[0m\u001b[0;34m.\u001b[0m\u001b[0m_request\u001b[0m\u001b[0;34m(\u001b[0m\u001b[0;34m\"delete\"\u001b[0m\u001b[0;34m,\u001b[0m \u001b[0murl\u001b[0m\u001b[0;34m,\u001b[0m \u001b[0mparams\u001b[0m\u001b[0;34m=\u001b[0m\u001b[0mparams\u001b[0m\u001b[0;34m)\u001b[0m\u001b[0;34m\u001b[0m\u001b[0;34m\u001b[0m\u001b[0m\n\u001b[0m\u001b[1;32m    214\u001b[0m \u001b[0;34m\u001b[0m\u001b[0m\n\u001b[1;32m    215\u001b[0m     \u001b[0;32mdef\u001b[0m \u001b[0mget\u001b[0m\u001b[0;34m(\u001b[0m\u001b[0mself\u001b[0m\u001b[0;34m,\u001b[0m \u001b[0mtable_name\u001b[0m\u001b[0;34m,\u001b[0m \u001b[0mrecord_id\u001b[0m\u001b[0;34m)\u001b[0m\u001b[0;34m:\u001b[0m\u001b[0;34m\u001b[0m\u001b[0;34m\u001b[0m\u001b[0m\n",
      "\u001b[0;32m~/dev/repos/gtalarico/airtable-python-wrapper/airtable/airtable.py\u001b[0m in \u001b[0;36m_request\u001b[0;34m(self, method, url, params, json_data)\u001b[0m\n\u001b[1;32m    195\u001b[0m             \u001b[0mmethod\u001b[0m\u001b[0;34m,\u001b[0m \u001b[0murl\u001b[0m\u001b[0;34m,\u001b[0m \u001b[0mparams\u001b[0m\u001b[0;34m=\u001b[0m\u001b[0mparams\u001b[0m\u001b[0;34m,\u001b[0m \u001b[0mjson\u001b[0m\u001b[0;34m=\u001b[0m\u001b[0mjson_data\u001b[0m\u001b[0;34m,\u001b[0m \u001b[0mtimeout\u001b[0m\u001b[0;34m=\u001b[0m\u001b[0mself\u001b[0m\u001b[0;34m.\u001b[0m\u001b[0mtimeout\u001b[0m\u001b[0;34m\u001b[0m\u001b[0;34m\u001b[0m\u001b[0m\n\u001b[1;32m    196\u001b[0m         )\n\u001b[0;32m--> 197\u001b[0;31m         \u001b[0;32mreturn\u001b[0m \u001b[0mself\u001b[0m\u001b[0;34m.\u001b[0m\u001b[0m_process_response\u001b[0m\u001b[0;34m(\u001b[0m\u001b[0mresponse\u001b[0m\u001b[0;34m)\u001b[0m\u001b[0;34m\u001b[0m\u001b[0;34m\u001b[0m\u001b[0m\n\u001b[0m\u001b[1;32m    198\u001b[0m \u001b[0;34m\u001b[0m\u001b[0m\n\u001b[1;32m    199\u001b[0m     \u001b[0;32mdef\u001b[0m \u001b[0m_get\u001b[0m\u001b[0;34m(\u001b[0m\u001b[0mself\u001b[0m\u001b[0;34m,\u001b[0m \u001b[0murl\u001b[0m\u001b[0;34m,\u001b[0m \u001b[0;34m**\u001b[0m\u001b[0mparams\u001b[0m\u001b[0;34m)\u001b[0m\u001b[0;34m:\u001b[0m\u001b[0;34m\u001b[0m\u001b[0;34m\u001b[0m\u001b[0m\n",
      "\u001b[0;32m~/dev/repos/gtalarico/airtable-python-wrapper/airtable/airtable.py\u001b[0m in \u001b[0;36m_process_response\u001b[0;34m(self, response)\u001b[0m\n\u001b[1;32m    187\u001b[0m                     \u001b[0merr_msg\u001b[0m \u001b[0;34m+=\u001b[0m \u001b[0;34m\" [Error: {}]\"\u001b[0m\u001b[0;34m.\u001b[0m\u001b[0mformat\u001b[0m\u001b[0;34m(\u001b[0m\u001b[0merror_dict\u001b[0m\u001b[0;34m[\u001b[0m\u001b[0;34m\"error\"\u001b[0m\u001b[0;34m]\u001b[0m\u001b[0;34m)\u001b[0m\u001b[0;34m\u001b[0m\u001b[0;34m\u001b[0m\u001b[0m\n\u001b[1;32m    188\u001b[0m             \u001b[0mexc\u001b[0m\u001b[0;34m.\u001b[0m\u001b[0margs\u001b[0m \u001b[0;34m=\u001b[0m \u001b[0;34m(\u001b[0m\u001b[0;34m*\u001b[0m\u001b[0mexc\u001b[0m\u001b[0;34m.\u001b[0m\u001b[0margs\u001b[0m\u001b[0;34m,\u001b[0m \u001b[0merr_msg\u001b[0m\u001b[0;34m)\u001b[0m\u001b[0;34m\u001b[0m\u001b[0;34m\u001b[0m\u001b[0m\n\u001b[0;32m--> 189\u001b[0;31m             \u001b[0;32mraise\u001b[0m \u001b[0mexc\u001b[0m\u001b[0;34m\u001b[0m\u001b[0;34m\u001b[0m\u001b[0m\n\u001b[0m\u001b[1;32m    190\u001b[0m         \u001b[0;32melse\u001b[0m\u001b[0;34m:\u001b[0m\u001b[0;34m\u001b[0m\u001b[0;34m\u001b[0m\u001b[0m\n\u001b[1;32m    191\u001b[0m             \u001b[0;32mreturn\u001b[0m \u001b[0mresponse\u001b[0m\u001b[0;34m.\u001b[0m\u001b[0mjson\u001b[0m\u001b[0;34m(\u001b[0m\u001b[0;34m)\u001b[0m\u001b[0;34m\u001b[0m\u001b[0;34m\u001b[0m\u001b[0m\n",
      "\u001b[0;32m~/dev/repos/gtalarico/airtable-python-wrapper/airtable/airtable.py\u001b[0m in \u001b[0;36m_process_response\u001b[0;34m(self, response)\u001b[0m\n\u001b[1;32m    174\u001b[0m     \u001b[0;32mdef\u001b[0m \u001b[0m_process_response\u001b[0m\u001b[0;34m(\u001b[0m\u001b[0mself\u001b[0m\u001b[0;34m,\u001b[0m \u001b[0mresponse\u001b[0m\u001b[0;34m)\u001b[0m\u001b[0;34m:\u001b[0m\u001b[0;34m\u001b[0m\u001b[0;34m\u001b[0m\u001b[0m\n\u001b[1;32m    175\u001b[0m         \u001b[0;32mtry\u001b[0m\u001b[0;34m:\u001b[0m\u001b[0;34m\u001b[0m\u001b[0;34m\u001b[0m\u001b[0m\n\u001b[0;32m--> 176\u001b[0;31m             \u001b[0mresponse\u001b[0m\u001b[0;34m.\u001b[0m\u001b[0mraise_for_status\u001b[0m\u001b[0;34m(\u001b[0m\u001b[0;34m)\u001b[0m\u001b[0;34m\u001b[0m\u001b[0;34m\u001b[0m\u001b[0m\n\u001b[0m\u001b[1;32m    177\u001b[0m         \u001b[0;32mexcept\u001b[0m \u001b[0mrequests\u001b[0m\u001b[0;34m.\u001b[0m\u001b[0mexceptions\u001b[0m\u001b[0;34m.\u001b[0m\u001b[0mHTTPError\u001b[0m \u001b[0;32mas\u001b[0m \u001b[0mexc\u001b[0m\u001b[0;34m:\u001b[0m\u001b[0;34m\u001b[0m\u001b[0;34m\u001b[0m\u001b[0m\n\u001b[1;32m    178\u001b[0m             \u001b[0merr_msg\u001b[0m \u001b[0;34m=\u001b[0m \u001b[0mstr\u001b[0m\u001b[0;34m(\u001b[0m\u001b[0mexc\u001b[0m\u001b[0;34m)\u001b[0m\u001b[0;34m\u001b[0m\u001b[0;34m\u001b[0m\u001b[0m\n",
      "\u001b[0;32m~/dev/repos/gtalarico/airtable-python-wrapper/.venv/lib/python3.8/site-packages/requests-2.25.1-py3.8.egg/requests/models.py\u001b[0m in \u001b[0;36mraise_for_status\u001b[0;34m(self)\u001b[0m\n\u001b[1;32m    941\u001b[0m \u001b[0;34m\u001b[0m\u001b[0m\n\u001b[1;32m    942\u001b[0m         \u001b[0;32mif\u001b[0m \u001b[0mhttp_error_msg\u001b[0m\u001b[0;34m:\u001b[0m\u001b[0;34m\u001b[0m\u001b[0;34m\u001b[0m\u001b[0m\n\u001b[0;32m--> 943\u001b[0;31m             \u001b[0;32mraise\u001b[0m \u001b[0mHTTPError\u001b[0m\u001b[0;34m(\u001b[0m\u001b[0mhttp_error_msg\u001b[0m\u001b[0;34m,\u001b[0m \u001b[0mresponse\u001b[0m\u001b[0;34m=\u001b[0m\u001b[0mself\u001b[0m\u001b[0;34m)\u001b[0m\u001b[0;34m\u001b[0m\u001b[0;34m\u001b[0m\u001b[0m\n\u001b[0m\u001b[1;32m    944\u001b[0m \u001b[0;34m\u001b[0m\u001b[0m\n\u001b[1;32m    945\u001b[0m     \u001b[0;32mdef\u001b[0m \u001b[0mclose\u001b[0m\u001b[0;34m(\u001b[0m\u001b[0mself\u001b[0m\u001b[0;34m)\u001b[0m\u001b[0;34m:\u001b[0m\u001b[0;34m\u001b[0m\u001b[0;34m\u001b[0m\u001b[0m\n",
      "\u001b[0;31mHTTPError\u001b[0m: ('404 Client Error: Not Found for url: https://api.airtable.com/v0/appaPqizdsNHDvlEm/table?records%5B%5D=recS6qSLw0OCA6Xul&records%5B%5D=recPDi9N8M7mMRt0L&records%5B%5D=reczA04T6mpU5lWm4&records%5B%5D=recsK7NLAcFN0lF2A&records%5B%5D=rec1CeRUBKpMKSMtb&records%5B%5D=recip3UXc0MlNowSS&records%5B%5D=rec7Q5QW6yM8foZWY&records%5B%5D=recQVUu5bx2vxYtyn&records%5B%5D=rec0G0k8CWtfU1FgZ&records%5B%5D=recNUXIWFSOnVWQUR', '404 Client Error: Not Found for url: https://api.airtable.com/v0/appaPqizdsNHDvlEm/table?records%5B%5D=recS6qSLw0OCA6Xul&records%5B%5D=recPDi9N8M7mMRt0L&records%5B%5D=reczA04T6mpU5lWm4&records%5B%5D=recsK7NLAcFN0lF2A&records%5B%5D=rec1CeRUBKpMKSMtb&records%5B%5D=recip3UXc0MlNowSS&records%5B%5D=rec7Q5QW6yM8foZWY&records%5B%5D=recQVUu5bx2vxYtyn&records%5B%5D=rec0G0k8CWtfU1FgZ&records%5B%5D=recNUXIWFSOnVWQUR [Error: {\\'type\\': \\'NOT_FOUND\\', \\'message\\': \\'Could not find a record with ID \"recS6qSLw0OCA6Xul\".\\'}]')"
     ]
    }
   ],
   "source": [
    "record_ids = [r[\"id\"] for r in batch_create_results ]\n",
    "delete_results = airtable.batch_delete(table_name, record_ids)\n",
    "delete_results"
   ]
  }
 ],
 "metadata": {
  "kernelspec": {
   "display_name": "Python 3 (ipykernel)",
   "language": "python",
   "name": "python3"
  },
  "language_info": {
   "codemirror_mode": {
    "name": "ipython",
    "version": 3
   },
   "file_extension": ".py",
   "mimetype": "text/x-python",
   "name": "python",
   "nbconvert_exporter": "python",
   "pygments_lexer": "ipython3",
   "version": "3.8.7"
  }
 },
 "nbformat": 4,
 "nbformat_minor": 5
}
